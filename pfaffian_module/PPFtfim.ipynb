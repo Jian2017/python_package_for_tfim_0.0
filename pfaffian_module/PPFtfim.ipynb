{
 "cells": [
  {
   "cell_type": "code",
   "execution_count": 73,
   "metadata": {
    "collapsed": true
   },
   "outputs": [],
   "source": [
    "import numpy as np\n",
    "from pf import pf   # the Python Package of Assessing Pfaffian (PPAP)\n",
    "\n",
    "class tfim(object):\n",
    "    def __init__(self,M): # each M gives quenched disorder Hamiltonian configuration, \n",
    "        # in case of disorder average, this object need to be constructed multiple times\n",
    "        # with different Ms satisfying some distribution.\n",
    "        self.M=M # M is an L by L matrix, contains all parameters of a chain\n",
    "        self.L=M.shape[0]  # L is the length of 1 dimensional Ising chain\n",
    "        \n",
    "        self.u, self.s, self.vh = np.linalg.svd(M)\n",
    "   \n",
    "    def aux_matrix_dynamics_block_for_test(self,t):\n",
    "        # this is for test purpose\n",
    "        A1=np.zeros((self.L, self.L), dtype=complex)\n",
    "        A2=A1+0\n",
    "        A3=A1+0\n",
    "        A4=A1+0\n",
    "        for i in range(L):\n",
    "            for j in range(L):\n",
    "                A1[i,j]=(i+1)+(j+1)*1j\n",
    "                A2[i,j]=(i+1)-(j+1)*1j\n",
    "                A3[i,j]=-(i+1)+(j+1)*1j\n",
    "                A4[i,j]=-(i+1)-(j+1)*1j\n",
    "                \n",
    "        for i in range(L):\n",
    "            for j in range(L):\n",
    "                A1[i,j]=1+t\n",
    "                A2[i,j]=2+t\n",
    "                A3[i,j]=3+t\n",
    "                A4[i,j]=4+t\n",
    "\n",
    "        \n",
    "        \n",
    "        A12=np.concatenate((A1, A2), axis=1)\n",
    "        A34=np.concatenate((A3, A4), axis=1)\n",
    "        return np.concatenate((A12,A34),axis=0)   # 这里之所以没有乘以2，参见“推导3”\n",
    "        \n",
    "    def aux_matrix_dynamics(self,t):\n",
    "        W=np.diag(np.exp(-2.0*1j*t*self.s))\n",
    "        \n",
    "        A1=np.matmul(np.matmul(self.vh.transpose(), W), self.vh)\n",
    "        A2=np.matmul(np.matmul(self.vh.transpose(), W), self.u.transpose())\n",
    "        A3=np.matmul(np.matmul(self.u, W), self.vh)\n",
    "        A4=np.matmul(np.matmul(self.u, W), self.u.transpose())\n",
    "        \n",
    "        \n",
    "        A12=np.concatenate((A1, A2), axis=1)\n",
    "        A34=np.concatenate((A3, A4), axis=1)\n",
    "        return np.concatenate((A12,-A34),axis=0)   # 这里之所以没有乘以2，参见“推导3”\n",
    "        \n",
    "    def aux_matrix_dynamics_badone(self,t):\n",
    "        M_zeros=np.zeros((self.L, self.L))\n",
    "        M_ones=np.identity(self.L)\n",
    "        M_P=np.diag(np.exp(2.0*1j*t*self.s))\n",
    "        \n",
    "        A1=np.concatenate((self.vh.transpose(), M_zeros), axis=1)\n",
    "        A2=np.concatenate((M_zeros,self.u), axis=1)\n",
    "        M1=np.concatenate((A1,A2),axis=0)\n",
    "        \n",
    "        A3=np.concatenate((M_P, -M_P), axis=1)\n",
    "        A4=np.concatenate((-M_P, M_P), axis=1)\n",
    "        M2=np.concatenate((A3,A4),axis=0)\n",
    "        \n",
    "        M3=M1.transpose()\n",
    "        \n",
    "        A5=np.concatenate((M_ones, M_zeros), axis=1)\n",
    "        A6=np.concatenate((M_zeros,-M_ones), axis=1)\n",
    "        M4=np.concatenate((A5,A6),axis=0)\n",
    "        \n",
    "        # M=reduce(np.dot, [M1, M2, M3, M4])\n",
    "        M=np.matmul(np.matmul(np.matmul(M1, M2), M3), M4)\n",
    "        \n",
    "        return M\n",
    "    \n",
    "    def aux_pfaffian_constructor(self,i,j,t):\n",
    "        #  i,j are integer\n",
    "        #  0<i<j<=L\n",
    "        #  S is a 2(i+j-1) dimensional matrix\n",
    "        S=np.zeros((2*(i+j-1),2*(i+j-1)), dtype=complex)  # DEBUG, dtype=complex can not miss, otherwise only cast to real part\n",
    "\n",
    "        Mt=self.aux_matrix_dynamics(t)\n",
    "        M0=self.aux_matrix_dynamics(0.0)  # NEED TO BE IMPROVED\n",
    "        \n",
    "        AtA=Mt[0:self.L,0:self.L]\n",
    "        AtB=Mt[0:self.L,self.L:]\n",
    "        BtA=Mt[self.L:,0:self.L]\n",
    "        BtB=Mt[self.L:,self.L:]\n",
    "        \n",
    "        AA=M0[0:self.L,0:self.L]\n",
    "        AB=M0[0:self.L,self.L:]\n",
    "        BA=M0[self.L:,0:self.L]\n",
    "        BB=M0[self.L:,self.L:]\n",
    "        #print(BB.shape)\n",
    "\n",
    "        a=2*i-1\n",
    "        b=2*(i+j-1)\n",
    "     \n",
    "        S[0:a:2,0:a:2]=AA[0:i,0:i]\n",
    "        S[0:a:2,1:a:2]=AB[0:i,0:(i-1)]\n",
    "        S[1:a:2,0:a:2]=BA[0:(i-1),0:i]\n",
    "        S[1:a:2,1:a:2]=BB[0:(i-1),0:(i-1)]\n",
    "\n",
    "        S[a:b:2,a:b:2]=AA[0:j,0:j]\n",
    "        S[a:b:2,(a+1):b:2]=AB[0:j,0:(j-1)]\n",
    "        S[(a+1):b:2,a:b:2]=BA[0:(j-1),0:j]\n",
    "        S[(a+1):b:2,(a+1):b:2]=BB[0:(j-1),0:(j-1)]\n",
    "        \n",
    "        S[0:a:2,a:b:2]=AtA[0:i,0:j]\n",
    "        S[0:a:2,(a+1):b:2]=AtB[0:i,0:(j-1)]\n",
    "        S[1:a:2,a:b:2]=BtA[0:(i-1),0:j]\n",
    "        S[1:a:2,(a+1):b:2]=BtB[0:(i-1),0:(j-1)]\n",
    "        \n",
    "        for i in range(b):\n",
    "            for j in range(b):\n",
    "                if i>=j:\n",
    "                    S[i,j]=0\n",
    "        S=S-S.transpose()\n",
    "        \n",
    "        return S\n",
    "\n",
    "        \n",
    "    def correlator_equal_time(self,i,j):\n",
    "        S=self.aux_pfaffian_constructor(i,j,0)\n",
    "        return pf(S)\n",
    "    \n",
    "    def correlator_dynamics(self,i,t,j):\n",
    "        S=self.aux_pfaffian_constructor(i,j,t)\n",
    "        return pf(S)\n",
    "    "
   ]
  },
  {
   "cell_type": "code",
   "execution_count": 49,
   "metadata": {},
   "outputs": [
    {
     "data": {
      "text/plain": [
       "(-0.20651700430806469-0.74008820096060646j)"
      ]
     },
     "execution_count": 49,
     "metadata": {},
     "output_type": "execute_result"
    }
   ],
   "source": [
    "pf(t1.aux_pfaffian_constructor(10,10,1))"
   ]
  },
  {
   "cell_type": "code",
   "execution_count": 74,
   "metadata": {},
   "outputs": [
    {
     "ename": "NameError",
     "evalue": "name 'aux_pfaffian_constructor' is not defined",
     "output_type": "error",
     "traceback": [
      "\u001b[1;31m---------------------------------------------------------------------------\u001b[0m",
      "\u001b[1;31mNameError\u001b[0m                                 Traceback (most recent call last)",
      "\u001b[1;32m<ipython-input-74-487e557d981b>\u001b[0m in \u001b[0;36m<module>\u001b[1;34m()\u001b[0m\n\u001b[1;32m----> 1\u001b[1;33m \u001b[0mt1\u001b[0m\u001b[1;33m.\u001b[0m\u001b[0mcorrelator_equal_time\u001b[0m\u001b[1;33m(\u001b[0m\u001b[1;36m10\u001b[0m\u001b[1;33m,\u001b[0m\u001b[1;36m10\u001b[0m\u001b[1;33m)\u001b[0m\u001b[1;33m\u001b[0m\u001b[0m\n\u001b[0m",
      "\u001b[1;32m~\\Desktop\\python_package_assess_pfaffian\\PPFtfim.py\u001b[0m in \u001b[0;36mcorrelator_equal_time\u001b[1;34m(self, i, j)\u001b[0m\n\u001b[0;32m    129\u001b[0m \u001b[1;33m\u001b[0m\u001b[0m\n\u001b[0;32m    130\u001b[0m     \u001b[1;32mdef\u001b[0m \u001b[0mcorrelator_equal_time\u001b[0m\u001b[1;33m(\u001b[0m\u001b[0mself\u001b[0m\u001b[1;33m,\u001b[0m\u001b[0mi\u001b[0m\u001b[1;33m,\u001b[0m\u001b[0mj\u001b[0m\u001b[1;33m)\u001b[0m\u001b[1;33m:\u001b[0m\u001b[1;33m\u001b[0m\u001b[0m\n\u001b[1;32m--> 131\u001b[1;33m         \u001b[0mS\u001b[0m\u001b[1;33m=\u001b[0m\u001b[0maux_pfaffian_constructor\u001b[0m\u001b[1;33m(\u001b[0m\u001b[0mi\u001b[0m\u001b[1;33m,\u001b[0m\u001b[0mj\u001b[0m\u001b[1;33m,\u001b[0m\u001b[1;36m0\u001b[0m\u001b[1;33m)\u001b[0m\u001b[1;33m\u001b[0m\u001b[0m\n\u001b[0m\u001b[0;32m    132\u001b[0m         \u001b[1;32mreturn\u001b[0m \u001b[0mpf\u001b[0m\u001b[1;33m(\u001b[0m\u001b[0mS\u001b[0m\u001b[1;33m)\u001b[0m\u001b[1;33m\u001b[0m\u001b[0m\n\u001b[0;32m    133\u001b[0m \u001b[1;33m\u001b[0m\u001b[0m\n",
      "\u001b[1;31mNameError\u001b[0m: name 'aux_pfaffian_constructor' is not defined"
     ]
    }
   ],
   "source": [
    "t1.correlator_equal_time(10,10)"
   ]
  },
  {
   "cell_type": "code",
   "execution_count": 59,
   "metadata": {},
   "outputs": [
    {
     "data": {
      "image/png": "[encoded data removed]",
      "text/plain": [
       "<matplotlib.figure.Figure at 0x2ac64860ba8>"
      ]
     },
     "metadata": {},
     "output_type": "display_data"
    },
    {
     "data": {
      "text/plain": [
       "(0.98010297075348674-0.18526991921704294j)"
      ]
     },
     "execution_count": 59,
     "metadata": {},
     "output_type": "execute_result"
    }
   ],
   "source": [
    "import matplotlib.pyplot as plt\n",
    "from PPFtfim import tfim\n",
    "\n",
    "L=20\n",
    "h=1\n",
    "la1=0.5\n",
    "M=np.zeros((L,L))\n",
    "for i in range(L):\n",
    "    M[i,i]=h\n",
    "    \n",
    "for i in range(L-1):\n",
    "    M[i,i+1]=-la1\n",
    "\n",
    "t1=tfim(M)\n",
    "\n",
    "print(t1.correlator_dynamics(10,1,10)\n",
    "\n",
    "S=t1.aux_pfaffian_constructor(4,4,0.1)\n",
    "plt.matshow(S.real)\n",
    "plt.colorbar()\n",
    "plt.show()\n",
    "pf(S)"
   ]
  },
  {
   "cell_type": "code",
   "execution_count": null,
   "metadata": {
    "collapsed": true
   },
   "outputs": [],
   "source": []
  }
 ],
 "metadata": {
  "kernelspec": {
   "display_name": "Python 3",
   "language": "python",
   "name": "python3"
  },
  "language_info": {
   "codemirror_mode": {
    "name": "ipython",
    "version": 3
   },
   "file_extension": ".py",
   "mimetype": "text/x-python",
   "name": "python",
   "nbconvert_exporter": "python",
   "pygments_lexer": "ipython3",
   "version": "3.6.3"
  }
 },
 "nbformat": 4,
 "nbformat_minor": 2
}
